{
 "cells": [
  {
   "cell_type": "markdown",
   "metadata": {},
   "source": [
    "# Following along tutorial. "
   ]
  },
  {
   "cell_type": "code",
   "execution_count": 1,
   "metadata": {},
   "outputs": [],
   "source": [
    "# Importing numpy \n",
    "\n",
    "import numpy as np"
   ]
  },
  {
   "cell_type": "code",
   "execution_count": 5,
   "metadata": {},
   "outputs": [
    {
     "name": "stdout",
     "output_type": "stream",
     "text": [
      "[[2.   1.8  7.25]\n",
      " [5.1  3.1  6.5 ]\n",
      " [2.1  1.9  5.6 ]]\n"
     ]
    }
   ],
   "source": [
    "# Setting up values. \n",
    "\n",
    "inputs = [ [1, 2, 3, 2.5],\n",
    "           [2, 5, -1, 2],\n",
    "           [-1, 2, 3, 0] ]\n",
    "\n",
    "weights = [ [0.2, 0.8, -0.1, -.2], \n",
    "            [0.2,0.2,-.1,-.2],\n",
    "           [.2,.3,.4,.5]]\n",
    "\n",
    "biases = [1,2,4]\n",
    "\n",
    "# Using numpy to do the dot product instead now. \n",
    "\n",
    "output = np.dot(inputs, np.array(weights).T) + biases # Convert weights to array and transpose. \n",
    "\n",
    "print(output)"
   ]
  }
 ],
 "metadata": {
  "kernelspec": {
   "display_name": "Python 3",
   "language": "python",
   "name": "python3"
  },
  "language_info": {
   "codemirror_mode": {
    "name": "ipython",
    "version": 3
   },
   "file_extension": ".py",
   "mimetype": "text/x-python",
   "name": "python",
   "nbconvert_exporter": "python",
   "pygments_lexer": "ipython3",
   "version": "3.7.6"
  }
 },
 "nbformat": 4,
 "nbformat_minor": 4
}
